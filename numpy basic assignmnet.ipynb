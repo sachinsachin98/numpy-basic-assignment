{
 "cells": [
  {
   "cell_type": "code",
   "execution_count": 2,
   "id": "ee933cc7-c58f-4c05-a091-b9f1d82c7d3d",
   "metadata": {},
   "outputs": [],
   "source": [
    "import numpy as np"
   ]
  },
  {
   "cell_type": "code",
   "execution_count": 3,
   "id": "01b909ab-2764-4649-be80-ad10a3e8680b",
   "metadata": {},
   "outputs": [],
   "source": [
    "#Q1\n",
    "#Yes these two are different as list_ is a list whereas array_list is an array.\n",
    "list_=['1','2','3','4','5']\n",
    "array_list = np.array(object = list_)"
   ]
  },
  {
   "cell_type": "code",
   "execution_count": 4,
   "id": "d03a6f86-2be4-4219-a283-24e2d03a9c21",
   "metadata": {},
   "outputs": [
    {
     "data": {
      "text/plain": [
       "numpy.ndarray"
      ]
     },
     "execution_count": 4,
     "metadata": {},
     "output_type": "execute_result"
    }
   ],
   "source": [
    "\n",
    "type(array_list)"
   ]
  },
  {
   "cell_type": "code",
   "execution_count": 5,
   "id": "1361ff4f-2130-4e23-8b29-6cc9e51b0acf",
   "metadata": {},
   "outputs": [
    {
     "data": {
      "text/plain": [
       "list"
      ]
     },
     "execution_count": 5,
     "metadata": {},
     "output_type": "execute_result"
    }
   ],
   "source": [
    "type(list_)"
   ]
  },
  {
   "cell_type": "code",
   "execution_count": 6,
   "id": "5cd6f539-3685-421b-8922-b43a570cf4e1",
   "metadata": {},
   "outputs": [
    {
     "name": "stdout",
     "output_type": "stream",
     "text": [
      "<class 'str'>\n",
      "<class 'str'>\n",
      "<class 'str'>\n",
      "<class 'str'>\n",
      "<class 'str'>\n",
      "<class 'numpy.str_'>\n",
      "<class 'numpy.str_'>\n",
      "<class 'numpy.str_'>\n",
      "<class 'numpy.str_'>\n",
      "<class 'numpy.str_'>\n"
     ]
    }
   ],
   "source": [
    "#Q2\n",
    "for i in range(5):\n",
    "    print(type(list_[i]))\n",
    "for i in range(5):\n",
    "    print(type(array_list[i]))"
   ]
  },
  {
   "cell_type": "code",
   "execution_count": 7,
   "id": "f06ded4d-71d0-4c07-aa27-49b7b650ad6b",
   "metadata": {},
   "outputs": [],
   "source": [
    "#Q3\n",
    "array_list = np.array(object = list_, dtype = int)"
   ]
  },
  {
   "cell_type": "code",
   "execution_count": 8,
   "id": "e1e005c2-6e2e-4ceb-9f91-0ef9726aac45",
   "metadata": {},
   "outputs": [
    {
     "name": "stdout",
     "output_type": "stream",
     "text": [
      "<class 'str'>\n",
      "<class 'str'>\n",
      "<class 'str'>\n",
      "<class 'str'>\n",
      "<class 'str'>\n",
      "<class 'numpy.int64'>\n",
      "<class 'numpy.int64'>\n",
      "<class 'numpy.int64'>\n",
      "<class 'numpy.int64'>\n",
      "<class 'numpy.int64'>\n"
     ]
    }
   ],
   "source": [
    "for i in range(5):\n",
    "    print(type(list_[i]))\n",
    "for i in range(5):\n",
    "    print(type(array_list[i]))"
   ]
  },
  {
   "cell_type": "code",
   "execution_count": 10,
   "id": "42874905-da46-41f7-a0e4-2c3e2f691971",
   "metadata": {},
   "outputs": [],
   "source": [
    "#Q4\n",
    "num_list = [ [ 1 , 2 , 3 ] , [ 4 , 5 , 6 ] ]\n",
    "num_array = np.array(object = num_list)"
   ]
  },
  {
   "cell_type": "code",
   "execution_count": 11,
   "id": "25b6d5cc-1383-4559-a3c3-a9859925ea20",
   "metadata": {},
   "outputs": [
    {
     "data": {
      "text/plain": [
       "(2, 3)"
      ]
     },
     "execution_count": 11,
     "metadata": {},
     "output_type": "execute_result"
    }
   ],
   "source": [
    "np.shape(num_array)"
   ]
  },
  {
   "cell_type": "code",
   "execution_count": 12,
   "id": "02337b26-e49b-435e-8001-e551d8dc05ff",
   "metadata": {},
   "outputs": [
    {
     "data": {
      "text/plain": [
       "6"
      ]
     },
     "execution_count": 12,
     "metadata": {},
     "output_type": "execute_result"
    }
   ],
   "source": [
    "np.size(num_array)"
   ]
  },
  {
   "cell_type": "code",
   "execution_count": 13,
   "id": "74870252-794c-4c6b-874c-6d60702b4b9b",
   "metadata": {},
   "outputs": [],
   "source": [
    "#Q5\n",
    "zero=np.zeros((3,3))"
   ]
  },
  {
   "cell_type": "code",
   "execution_count": 14,
   "id": "5e5bbca6-2952-4221-a1ed-7b04ff123cd7",
   "metadata": {},
   "outputs": [
    {
     "data": {
      "text/plain": [
       "array([[0., 0., 0.],\n",
       "       [0., 0., 0.],\n",
       "       [0., 0., 0.]])"
      ]
     },
     "execution_count": 14,
     "metadata": {},
     "output_type": "execute_result"
    }
   ],
   "source": [
    "zero"
   ]
  },
  {
   "cell_type": "code",
   "execution_count": 15,
   "id": "f203bf71-d918-4b4f-82cd-6638f9e9e242",
   "metadata": {},
   "outputs": [],
   "source": [
    "#Q6\n",
    "matrix=np.eye(5)"
   ]
  },
  {
   "cell_type": "code",
   "execution_count": 16,
   "id": "a06eb430-7490-4a33-ad2a-e32d9918e6be",
   "metadata": {},
   "outputs": [
    {
     "data": {
      "text/plain": [
       "array([[1., 0., 0., 0., 0.],\n",
       "       [0., 1., 0., 0., 0.],\n",
       "       [0., 0., 1., 0., 0.],\n",
       "       [0., 0., 0., 1., 0.],\n",
       "       [0., 0., 0., 0., 1.]])"
      ]
     },
     "execution_count": 16,
     "metadata": {},
     "output_type": "execute_result"
    }
   ],
   "source": [
    "matrix"
   ]
  },
  {
   "cell_type": "code",
   "execution_count": null,
   "id": "a46ab1c6-5081-45c6-b06c-99d13966338a",
   "metadata": {},
   "outputs": [],
   "source": []
  }
 ],
 "metadata": {
  "kernelspec": {
   "display_name": "Python 3 (ipykernel)",
   "language": "python",
   "name": "python3"
  },
  "language_info": {
   "codemirror_mode": {
    "name": "ipython",
    "version": 3
   },
   "file_extension": ".py",
   "mimetype": "text/x-python",
   "name": "python",
   "nbconvert_exporter": "python",
   "pygments_lexer": "ipython3",
   "version": "3.10.8"
  }
 },
 "nbformat": 4,
 "nbformat_minor": 5
}
